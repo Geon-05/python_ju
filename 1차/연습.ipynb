{
 "cells": [
  {
   "cell_type": "code",
   "execution_count": 1,
   "id": "abfafdc2-5625-4b4a-95ab-ae9dc1f289ea",
   "metadata": {},
   "outputs": [
    {
     "data": {
      "text/plain": [
       "'C:\\\\Users\\\\zcode\\\\Documents\\\\py\\\\1차'"
      ]
     },
     "execution_count": 1,
     "metadata": {},
     "output_type": "execute_result"
    }
   ],
   "source": [
    "pwd"
   ]
  },
  {
   "cell_type": "code",
   "execution_count": 2,
   "id": "a5e9d9c7-56c9-417e-97c6-35df9b350aeb",
   "metadata": {
    "scrolled": true
   },
   "outputs": [
    {
     "data": {
      "text/plain": [
       "4"
      ]
     },
     "execution_count": 2,
     "metadata": {},
     "output_type": "execute_result"
    }
   ],
   "source": [
    "1+3"
   ]
  },
  {
   "cell_type": "code",
   "execution_count": 3,
   "id": "ec06a704-b299-40cd-aa00-c2d35d0e5eba",
   "metadata": {},
   "outputs": [
    {
     "data": {
      "text/plain": [
       "9"
      ]
     },
     "execution_count": 3,
     "metadata": {},
     "output_type": "execute_result"
    }
   ],
   "source": [
    "3+6"
   ]
  },
  {
   "cell_type": "code",
   "execution_count": 4,
   "id": "7c603878-98d3-40e3-bca4-9a0ada9897b6",
   "metadata": {},
   "outputs": [
    {
     "data": {
      "text/plain": [
       "31"
      ]
     },
     "execution_count": 4,
     "metadata": {},
     "output_type": "execute_result"
    }
   ],
   "source": [
    "26+5"
   ]
  },
  {
   "cell_type": "code",
   "execution_count": 9,
   "id": "0fc18fb8-c69f-41a6-984f-e29d12e2acb3",
   "metadata": {},
   "outputs": [
    {
     "data": {
      "text/plain": [
       "34"
      ]
     },
     "execution_count": 9,
     "metadata": {},
     "output_type": "execute_result"
    }
   ],
   "source": [
    "26+8"
   ]
  },
  {
   "cell_type": "code",
   "execution_count": 6,
   "id": "317ad194-ea81-4778-9ee3-ba33b02a1a65",
   "metadata": {},
   "outputs": [
    {
     "data": {
      "text/plain": [
       "31"
      ]
     },
     "execution_count": 6,
     "metadata": {},
     "output_type": "execute_result"
    }
   ],
   "source": [
    "26+5"
   ]
  },
  {
   "cell_type": "code",
   "execution_count": 15,
   "id": "548a52c6-2eab-42e7-ade4-1c6891e3c85c",
   "metadata": {},
   "outputs": [],
   "source": [
    "a=7"
   ]
  },
  {
   "cell_type": "code",
   "execution_count": 11,
   "id": "3c2e990a-abb5-4f3b-a949-07cf1090906c",
   "metadata": {},
   "outputs": [],
   "source": [
    "b=5"
   ]
  },
  {
   "cell_type": "code",
   "execution_count": 12,
   "id": "5447c8f2-a68c-4567-8932-8008ce85aeaf",
   "metadata": {},
   "outputs": [],
   "source": [
    "a=6"
   ]
  },
  {
   "cell_type": "code",
   "execution_count": 16,
   "id": "05b19227-8e15-4f79-a139-0a8309b8672d",
   "metadata": {},
   "outputs": [
    {
     "data": {
      "text/plain": [
       "12"
      ]
     },
     "execution_count": 16,
     "metadata": {},
     "output_type": "execute_result"
    }
   ],
   "source": [
    "a+b"
   ]
  },
  {
   "cell_type": "code",
   "execution_count": 17,
   "id": "4525869d-3433-4a9d-8f6c-acf19f6ba289",
   "metadata": {},
   "outputs": [
    {
     "name": "stdout",
     "output_type": "stream",
     "text": [
      "9\n"
     ]
    }
   ],
   "source": [
    "a = 3\n",
    "b = 6\n",
    "print(a + b)"
   ]
  },
  {
   "cell_type": "code",
   "execution_count": 20,
   "id": "4c8ea9c8-edc1-4f90-9230-6ba42df2979f",
   "metadata": {},
   "outputs": [
    {
     "name": "stdout",
     "output_type": "stream",
     "text": [
      "<class 'int'>\n",
      "<class 'float'>\n"
     ]
    }
   ],
   "source": [
    "a = 3\n",
    "print(type(a))\n",
    "a = 3.0\n",
    "print(type(a))"
   ]
  },
  {
   "cell_type": "code",
   "execution_count": 21,
   "id": "f1db2f0d-a668-40e0-83c2-16e1308f7d4d",
   "metadata": {},
   "outputs": [
    {
     "data": {
      "text/plain": [
       "float"
      ]
     },
     "execution_count": 21,
     "metadata": {},
     "output_type": "execute_result"
    }
   ],
   "source": [
    "type(a)"
   ]
  },
  {
   "cell_type": "code",
   "execution_count": 23,
   "id": "75d5da28-2b61-4690-8c90-2f550467bf9d",
   "metadata": {},
   "outputs": [
    {
     "name": "stdout",
     "output_type": "stream",
     "text": [
      "True\n",
      "False\n"
     ]
    }
   ],
   "source": [
    "print(True)\n",
    "print(False)"
   ]
  },
  {
   "cell_type": "code",
   "execution_count": 24,
   "id": "4dfc29df-478c-4a64-8810-d5570f804e7d",
   "metadata": {},
   "outputs": [
    {
     "name": "stdout",
     "output_type": "stream",
     "text": [
      "4\n",
      "3\n"
     ]
    }
   ],
   "source": [
    "print(True+3)\n",
    "print(False+3)"
   ]
  },
  {
   "cell_type": "code",
   "execution_count": 25,
   "id": "ebf42a32-26b5-4208-8e29-d75ea4888eba",
   "metadata": {},
   "outputs": [
    {
     "data": {
      "text/plain": [
       "2"
      ]
     },
     "execution_count": 25,
     "metadata": {},
     "output_type": "execute_result"
    }
   ],
   "source": [
    "True+True+False"
   ]
  },
  {
   "cell_type": "code",
   "execution_count": 27,
   "id": "b3060674-f2e8-47f3-b659-fdb3cdd88d07",
   "metadata": {},
   "outputs": [
    {
     "name": "stdout",
     "output_type": "stream",
     "text": [
      "''\n"
     ]
    }
   ],
   "source": [
    "print(\"''\")"
   ]
  },
  {
   "cell_type": "code",
   "execution_count": 28,
   "id": "5ff14564-a798-4efc-9402-7c19e9718cee",
   "metadata": {},
   "outputs": [
    {
     "name": "stdout",
     "output_type": "stream",
     "text": [
      "'학교'과제\n"
     ]
    }
   ],
   "source": [
    "print(\"'학교'과제\")"
   ]
  },
  {
   "cell_type": "code",
   "execution_count": 29,
   "id": "7cd04c9e-e128-4b41-b537-184eb00bb86f",
   "metadata": {},
   "outputs": [
    {
     "name": "stdout",
     "output_type": "stream",
     "text": [
      "\"학교\"과제\n"
     ]
    }
   ],
   "source": [
    "print('\"학교\"과제')"
   ]
  },
  {
   "cell_type": "code",
   "execution_count": 31,
   "id": "7df14fe0-e5b1-4e7c-b1c9-d0431aa9a5f6",
   "metadata": {},
   "outputs": [
    {
     "name": "stdout",
     "output_type": "stream",
     "text": [
      "\"학교'과제\"\n"
     ]
    }
   ],
   "source": [
    "print('\\\"학교\\'과제\\\"')"
   ]
  },
  {
   "cell_type": "code",
   "execution_count": 34,
   "id": "94f47347-cad8-4e53-9052-1c2f7db2b5ed",
   "metadata": {},
   "outputs": [
    {
     "data": {
      "text/plain": [
       "'C:\\\\Users\\\\zcode\\\\Documents\\\\py\\\\1차'"
      ]
     },
     "execution_count": 34,
     "metadata": {},
     "output_type": "execute_result"
    }
   ],
   "source": [
    "'C:\\\\Users\\\\zcode\\\\Documents\\\\py\\\\1차'"
   ]
  },
  {
   "cell_type": "code",
   "execution_count": 33,
   "id": "cba052c1-ce17-44f5-91c7-6c5f1408cb22",
   "metadata": {},
   "outputs": [
    {
     "data": {
      "text/plain": [
       "'C:\\\\Users\\\\zcode\\\\Documents\\\\py\\\\1차'"
      ]
     },
     "execution_count": 33,
     "metadata": {},
     "output_type": "execute_result"
    }
   ],
   "source": [
    "r'C:\\Users\\zcode\\Documents\\py\\1차'"
   ]
  },
  {
   "cell_type": "code",
   "execution_count": 35,
   "id": "7e9519dd-da5a-4947-b165-16095f6e2ef3",
   "metadata": {},
   "outputs": [
    {
     "name": "stdout",
     "output_type": "stream",
     "text": [
      "(3, 4)\n"
     ]
    }
   ],
   "source": [
    "# 팩킹\n",
    "a = 3, 4\n",
    "print(a)"
   ]
  },
  {
   "cell_type": "code",
   "execution_count": 36,
   "id": "87f30284-1410-4544-964e-2d13224cd164",
   "metadata": {},
   "outputs": [
    {
     "name": "stdout",
     "output_type": "stream",
     "text": [
      "a : 3, b : 4\n"
     ]
    }
   ],
   "source": [
    "# 언팩킹 - 쌍이 맞아야한다!\n",
    "a, b = 3, 4\n",
    "print(f'a : {a}, b : {b}')"
   ]
  },
  {
   "cell_type": "code",
   "execution_count": 37,
   "id": "0906c153-9a0d-4fc6-8e40-b759f55ff01d",
   "metadata": {},
   "outputs": [
    {
     "name": "stdout",
     "output_type": "stream",
     "text": [
      "a : 3, b : [4, 5]\n"
     ]
    }
   ],
   "source": [
    "a, *b = 3, 4, 5\n",
    "print(f'a : {a}, b : {b}')"
   ]
  },
  {
   "cell_type": "code",
   "execution_count": 39,
   "id": "12b35aa1-4e83-4ac3-b47f-b2d7ef700835",
   "metadata": {},
   "outputs": [
    {
     "name": "stdin",
     "output_type": "stream",
     "text": [
      "값 입력 : 3\n"
     ]
    },
    {
     "name": "stdout",
     "output_type": "stream",
     "text": [
      "3 <class 'str'>\n"
     ]
    }
   ],
   "source": [
    "a = input('값 입력 :')\n",
    "print(a,type(a))"
   ]
  },
  {
   "cell_type": "code",
   "execution_count": 43,
   "id": "620f80d6-6ce3-43e2-bd21-77782cd08630",
   "metadata": {},
   "outputs": [
    {
     "name": "stdout",
     "output_type": "stream",
     "text": [
      "a = abc\n",
      "b = efg\n"
     ]
    }
   ],
   "source": [
    "a, b = 'abc efg'.split()\n",
    "print('a =',a)\n",
    "print('b =',b)"
   ]
  },
  {
   "cell_type": "code",
   "execution_count": 45,
   "id": "21b68a46-a662-4f66-8af2-96591d1d9afa",
   "metadata": {},
   "outputs": [
    {
     "name": "stdin",
     "output_type": "stream",
     "text": [
      "공백으로 분리해서 값을 2개 입력 : abc def\n"
     ]
    },
    {
     "name": "stdout",
     "output_type": "stream",
     "text": [
      "a = abc b = def <class 'str'> <class 'str'>\n"
     ]
    }
   ],
   "source": [
    "a, b = input('공백으로 분리해서 값을 2개 입력 :').split()\n",
    "print('a =',a,'b =',b,type(a),type(b))"
   ]
  },
  {
   "cell_type": "code",
   "execution_count": 46,
   "id": "32f7728b-dc1b-420c-89ac-849ef5e82f8d",
   "metadata": {},
   "outputs": [
    {
     "name": "stdout",
     "output_type": "stream",
     "text": [
      "3\n",
      "3\n"
     ]
    }
   ],
   "source": [
    "a = int\n",
    "print(int(3.0))\n",
    "print(a(3.0))"
   ]
  },
  {
   "cell_type": "code",
   "execution_count": 47,
   "id": "7ae22ccf-7049-4ad3-b6f4-2cd3d7f3248a",
   "metadata": {},
   "outputs": [
    {
     "name": "stdout",
     "output_type": "stream",
     "text": [
      "3\n",
      "3\n"
     ]
    }
   ],
   "source": [
    "a = int\n",
    "print(int('3'))\n",
    "print(a('3'))"
   ]
  },
  {
   "cell_type": "code",
   "execution_count": 48,
   "id": "d239eb0a-9ecc-48a0-b77e-7366fa4e22ab",
   "metadata": {},
   "outputs": [
    {
     "name": "stdout",
     "output_type": "stream",
     "text": [
      "3 <class 'int'>\n",
      "3 <class 'str'>\n",
      "3.0 <class 'float'>\n",
      "True <class 'bool'>\n"
     ]
    }
   ],
   "source": [
    "f = [int, str,float, bool]\n",
    "a = '3'\n",
    "for i in f:\n",
    "    print(i(a),type(i(a)))"
   ]
  },
  {
   "cell_type": "code",
   "execution_count": 49,
   "id": "8c2a707e-f21e-4ddc-920c-0d71de854883",
   "metadata": {},
   "outputs": [
    {
     "name": "stdout",
     "output_type": "stream",
     "text": [
      "[3, 2, 2, 4, 12, 5, 6]\n"
     ]
    }
   ],
   "source": [
    "a=['3',2,2.0,4,12,'5',6]\n",
    "res = []\n",
    "for i in a:\n",
    "    res.append(int(i))\n",
    "print(res)"
   ]
  },
  {
   "cell_type": "code",
   "execution_count": 51,
   "id": "59e04179-e0b0-419b-84b2-b2459f5962fe",
   "metadata": {},
   "outputs": [
    {
     "data": {
      "text/plain": [
       "[3, 2, 2, 4, 12, 5, 6]"
      ]
     },
     "execution_count": 51,
     "metadata": {},
     "output_type": "execute_result"
    }
   ],
   "source": [
    "a=['3',2,2.0,4,12,'5',6]\n",
    "map(int,a)\n",
    "list(map(int,a))"
   ]
  },
  {
   "cell_type": "code",
   "execution_count": 52,
   "id": "0b75dc7e-5718-4d5f-bca8-5254b9be9e75",
   "metadata": {},
   "outputs": [
    {
     "data": {
      "text/plain": [
       "[0, 1, 2, 3, 4, 5, 6, 7, 8, 9]"
      ]
     },
     "execution_count": 52,
     "metadata": {},
     "output_type": "execute_result"
    }
   ],
   "source": [
    "list(range(10))"
   ]
  },
  {
   "cell_type": "code",
   "execution_count": null,
   "id": "31616097-b5fa-469a-bd53-354d842708eb",
   "metadata": {},
   "outputs": [],
   "source": []
  }
 ],
 "metadata": {
  "kernelspec": {
   "display_name": "Python 3 (ipykernel)",
   "language": "python",
   "name": "python3"
  },
  "language_info": {
   "codemirror_mode": {
    "name": "ipython",
    "version": 3
   },
   "file_extension": ".py",
   "mimetype": "text/x-python",
   "name": "python",
   "nbconvert_exporter": "python",
   "pygments_lexer": "ipython3",
   "version": "3.12.5"
  }
 },
 "nbformat": 4,
 "nbformat_minor": 5
}
