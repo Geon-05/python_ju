{
 "cells": [
  {
   "cell_type": "code",
   "execution_count": 41,
   "id": "3e415cd0",
   "metadata": {},
   "outputs": [
    {
     "name": "stdout",
     "output_type": "stream",
     "text": [
      "************"
     ]
    }
   ],
   "source": [
    "for i in range(12):\n",
    "    print('*', end='')"
   ]
  },
  {
   "cell_type": "code",
   "execution_count": 44,
   "id": "51679690",
   "metadata": {},
   "outputs": [
    {
     "name": "stdout",
     "output_type": "stream",
     "text": [
      "************\n",
      "************\n",
      "************\n"
     ]
    }
   ],
   "source": [
    "for j in range(3):\n",
    "    for i in range(12):\n",
    "        print('*', end='')\n",
    "    print()\n"
   ]
  },
  {
   "cell_type": "code",
   "execution_count": 46,
   "id": "84a6ebd2",
   "metadata": {},
   "outputs": [
    {
     "name": "stdout",
     "output_type": "stream",
     "text": [
      "*\n",
      "**\n",
      "***\n",
      "****\n",
      "*****\n",
      "******\n",
      "*******\n",
      "********\n",
      "*********\n",
      "**********\n"
     ]
    }
   ],
   "source": [
    "for i in range(10):\n",
    "    print('*'*(i+1))"
   ]
  },
  {
   "cell_type": "code",
   "execution_count": 47,
   "id": "0d6e60f6",
   "metadata": {},
   "outputs": [
    {
     "name": "stdout",
     "output_type": "stream",
     "text": [
      "*\n",
      "**\n",
      "***\n",
      "****\n",
      "*****\n",
      "******\n",
      "*******\n",
      "********\n",
      "*********\n",
      "**********\n"
     ]
    }
   ],
   "source": [
    "for i in range(1,11):\n",
    "    for j in range(i):\n",
    "        print('*', end='')\n",
    "    print()"
   ]
  },
  {
   "cell_type": "code",
   "execution_count": 7,
   "id": "d9f2246f",
   "metadata": {},
   "outputs": [
    {
     "name": "stdout",
     "output_type": "stream",
     "text": [
      "**********\n",
      "*********\n",
      "********\n",
      "*******\n",
      "******\n",
      "*****\n",
      "****\n",
      "***\n",
      "**\n",
      "*\n"
     ]
    }
   ],
   "source": [
    "for i in range(10):\n",
    "    print('*'*(10-i))"
   ]
  },
  {
   "cell_type": "code",
   "execution_count": 54,
   "id": "37a844c2",
   "metadata": {},
   "outputs": [
    {
     "name": "stdout",
     "output_type": "stream",
     "text": [
      "***********\n",
      "**********\n",
      "*********\n",
      "********\n",
      "*******\n",
      "******\n",
      "*****\n",
      "****\n",
      "***\n",
      "**\n",
      "*\n"
     ]
    }
   ],
   "source": [
    "for i in range(11,0,-1):\n",
    "    for j in range(i):\n",
    "        print('*', end='')\n",
    "    print()\n"
   ]
  },
  {
   "cell_type": "code",
   "execution_count": 12,
   "id": "dd5958b1",
   "metadata": {},
   "outputs": [
    {
     "name": "stdout",
     "output_type": "stream",
     "text": [
      "           *\n",
      "          **\n",
      "         ***\n",
      "        ****\n",
      "       *****\n",
      "      ******\n",
      "     *******\n",
      "    ********\n",
      "   *********\n",
      "  **********\n"
     ]
    }
   ],
   "source": [
    "for i in range(10):\n",
    "    print(' '* (11-i)+ ('*'*(i+1)))"
   ]
  },
  {
   "cell_type": "code",
   "execution_count": 60,
   "id": "e3f026a0",
   "metadata": {},
   "outputs": [
    {
     "name": "stdout",
     "output_type": "stream",
     "text": [
      "          \n",
      "         *\n",
      "        **\n",
      "       ***\n",
      "      ****\n",
      "     *****\n",
      "    ******\n",
      "   *******\n",
      "  ********\n",
      " *********\n"
     ]
    }
   ],
   "source": [
    "for i in range(10):\n",
    "    for t in range(10,i,-1):\n",
    "        print(' ', end='')\n",
    "    for j in range(1,i+1):\n",
    "        print('*', end='')\n",
    "    print()"
   ]
  },
  {
   "cell_type": "code",
   "execution_count": 18,
   "id": "d9c41823",
   "metadata": {},
   "outputs": [
    {
     "name": "stdout",
     "output_type": "stream",
     "text": [
      "           *\n",
      "          ***\n",
      "         *****\n",
      "        *******\n",
      "       *********\n",
      "      ***********\n",
      "     *************\n",
      "    ***************\n",
      "   *****************\n",
      "  *******************\n",
      " *********************\n"
     ]
    }
   ],
   "source": [
    "for i in range(10):\n",
    "    print(' '*(11-i), end='')\n",
    "    print('*'*(i*2+1))"
   ]
  },
  {
   "cell_type": "code",
   "execution_count": 89,
   "id": "dcfb13cf",
   "metadata": {},
   "outputs": [
    {
     "name": "stdout",
     "output_type": "stream",
     "text": [
      "           *\n",
      "          ***\n",
      "         *****\n",
      "        *******\n",
      "       *********\n",
      "      ***********\n",
      "     *************\n",
      "    ***************\n",
      "   *****************\n",
      "  *******************\n"
     ]
    }
   ],
   "source": [
    "for i in range(10):\n",
    "    for t in range(11, i , -1):\n",
    "        print(' ', end='')\n",
    "    for j in range(i*2+1):\n",
    "        print('*', end='')\n",
    "    print()"
   ]
  },
  {
   "cell_type": "code",
   "execution_count": 38,
   "id": "d40d22ed",
   "metadata": {},
   "outputs": [
    {
     "name": "stdout",
     "output_type": "stream",
     "text": [
      "*******************\n",
      " *****************\n",
      "  ***************\n",
      "   *************\n",
      "    ***********\n",
      "     *********\n",
      "      *******\n",
      "       *****\n",
      "        ***\n",
      "         *\n"
     ]
    }
   ],
   "source": [
    "for i  in range(10):\n",
    "    print(' '*i, end='')\n",
    "    print('*'*(20-(i*2+1)))"
   ]
  },
  {
   "cell_type": "code",
   "execution_count": 125,
   "id": "f60c241b",
   "metadata": {},
   "outputs": [
    {
     "name": "stdout",
     "output_type": "stream",
     "text": [
      "          *******************\n",
      "           *****************\n",
      "            ***************\n",
      "             *************\n",
      "              ***********\n",
      "               *********\n",
      "                *******\n",
      "                 *****\n",
      "                  ***\n",
      "                   *\n"
     ]
    }
   ],
   "source": [
    "for i in range(20,0,-2):\n",
    "    for t in range(20, i//2+i%2,-1):\n",
    "        print(' ',end='')\n",
    "    for j in range(i-1):\n",
    "        print('*', end='')\n",
    "    print()"
   ]
  },
  {
   "cell_type": "code",
   "execution_count": 129,
   "id": "e855a4ff",
   "metadata": {},
   "outputs": [
    {
     "name": "stdout",
     "output_type": "stream",
     "text": [
      "********************\n",
      "******************\n",
      "****************\n",
      "**************\n",
      "************\n",
      "**********\n",
      "********\n",
      "******\n",
      "****\n",
      "**\n"
     ]
    }
   ],
   "source": [
    "n=0\n",
    "for i in range(20,0,-2):\n",
    "#     n+=1\n",
    "#     for i in range(n):\n",
    "#         print(' ', end='')\n",
    "    for j in range(i):\n",
    "        print('*', end='')\n",
    "    print()"
   ]
  },
  {
   "cell_type": "code",
   "execution_count": null,
   "id": "fc498569",
   "metadata": {},
   "outputs": [],
   "source": []
  }
 ],
 "metadata": {
  "kernelspec": {
   "display_name": "Python 3 (ipykernel)",
   "language": "python",
   "name": "python3"
  },
  "language_info": {
   "codemirror_mode": {
    "name": "ipython",
    "version": 3
   },
   "file_extension": ".py",
   "mimetype": "text/x-python",
   "name": "python",
   "nbconvert_exporter": "python",
   "pygments_lexer": "ipython3",
   "version": "3.10.4"
  }
 },
 "nbformat": 4,
 "nbformat_minor": 5
}
