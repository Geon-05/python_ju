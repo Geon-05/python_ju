{
 "cells": [
  {
   "cell_type": "markdown",
   "metadata": {
    "id": "RQu7M1rdd8AB"
   },
   "source": [
    "### 에러처리\n",
    "- try: 정상~ except: 에러처리"
   ]
  },
  {
   "cell_type": "code",
   "execution_count": null,
   "metadata": {
    "id": "YKxCL-TfeUSA"
   },
   "outputs": [],
   "source": [
    "print(aaa)  # aaa 변수가 없기 때문에 에러 발생"
   ]
  },
  {
   "cell_type": "code",
   "execution_count": null,
   "metadata": {
    "id": "0BWSMHLbecdf"
   },
   "outputs": [],
   "source": [
    "## 기본적인 형식\n",
    "try:\n",
    "    print(aaa)\n",
    "except:\n",
    "    print(\"에러발생\")"
   ]
  },
  {
   "cell_type": "code",
   "execution_count": null,
   "metadata": {
    "id": "WWAdBwohe0jP"
   },
   "outputs": [],
   "source": [
    "## try: ~ except: ~ 주의점\n",
    "try:\n",
    "    print(\"안녕하세요.\")  # 정상 코드\n",
    "    print(aaa)            # 에러 발생 코드\n",
    "    print(\"반갑습니다.\")  # 정상 코드\n",
    "except:\n",
    "    print(\"에러발생\")"
   ]
  },
  {
   "cell_type": "code",
   "execution_count": null,
   "metadata": {
    "id": "lyyUTaJPfWhG"
   },
   "outputs": [],
   "source": [
    "## 기본적인 형식/pass\n",
    "try:\n",
    "    print(aaa)\n",
    "except:\n",
    "    pass   # 넘어가시오\n",
    "\n",
    "print(\"에러 무시\")"
   ]
  },
  {
   "cell_type": "code",
   "execution_count": null,
   "metadata": {
    "id": "qCkxmWaQgBsI"
   },
   "outputs": [],
   "source": [
    "## 에러 발생에 대한 원인을 메세지로 전달(즉, 코드 실행시 멈추지 않고 계속 실행)\n",
    "try:\n",
    "    print(aaa)\n",
    "except Exception as e:\n",
    "    print(f\"에러발생원인:{e}\") \n",
    "\n",
    "print(\"=== END ===\")"
   ]
  },
  {
   "cell_type": "markdown",
   "metadata": {
    "id": "fK0inyr8iaR_"
   },
   "source": [
    "### random 모듈\n",
    "- 파이썬에서 난수를 발생시키는 기본 모듈\n",
    "- 참조: https://docs.python.org/ko/3/library/random.html\n",
    "- random 함수\n",
    " * random(): 0 ~ 1 사이의 숫자를 임의로 출력\n",
    " * randrange(시작, 종료): 시작부터 종료값 사이의 숫자를 임의로 발생\n",
    " * randint(a, b): a와 b사이의 정수형 숫자 발생 \n",
    " * shuffle(): 스퀀스 데이터의 순서를 임의로 변경해서 출력\n",
    " * choice(): 스퀀스 데이터들 중 하나를 뽑아 출력\n",
    "\n"
   ]
  },
  {
   "cell_type": "code",
   "execution_count": null,
   "metadata": {
    "id": "40I4i-VrhRr6"
   },
   "outputs": [],
   "source": [
    "import random\n",
    "\n",
    "random.random()  # 0 ~ 1 사이의 숫자를 임의로 출력"
   ]
  },
  {
   "cell_type": "code",
   "execution_count": null,
   "metadata": {
    "id": "RLJSWOCwlyf2"
   },
   "outputs": [],
   "source": [
    "# a에서 b 사이의 임의값 출력\n",
    "print(random.randint(1, 46))\n",
    "print(random.randrange(1, 101, 2))  # step 값 지정 가능"
   ]
  },
  {
   "cell_type": "code",
   "execution_count": null,
   "metadata": {
    "id": "EtCY52SvmGkG"
   },
   "outputs": [],
   "source": [
    "## 스퀀스 데이터 처리\n",
    "tmp=[\"a\", \"b\", \"c\", \"d\", \"e\"]\n",
    "\n",
    "random.shuffle(tmp)  # 순서 변경하기\n",
    "print(tmp)\n",
    "print(random.choice(tmp))"
   ]
  },
  {
   "cell_type": "code",
   "execution_count": null,
   "metadata": {
    "id": "R69_DpZ4nN8e"
   },
   "outputs": [],
   "source": [
    "메뉴=[\"라면\", \"김밥\", \"자장면\", \"짬뽕\"]\n",
    "random.choice(메뉴)"
   ]
  },
  {
   "cell_type": "code",
   "execution_count": null,
   "metadata": {
    "id": "oNhp8R6bn0DF"
   },
   "outputs": [],
   "source": [
    "num=list(range(1, 46))\n",
    "# print(num)\n",
    "random.sample(num, k=7)"
   ]
  },
  {
   "cell_type": "markdown",
   "metadata": {
    "id": "nfZqLo7Npm62"
   },
   "source": [
    "### 미션 [숫자 맞추기]\n",
    "- 1에서 100사이의 임의값 생성후 tmp 저장 \n",
    "- 사용자로부터 1 ~ 100 사이값을 입력 받기\n",
    "- 최초 생성된 숫자와 일치할 때까지 입력(while/for)\n",
    " * tmp 보다 크면 \"다운\" 출력\n",
    " * tmp 보다 작으면 \"업\" 출력\n",
    " * tmp와 일치하면 \"축하합니다. 00회 만에 맞췄습니다.\"\n",
    " * 정답을 맞춘 횟수 계산\n",
    "- 만약 문자를 입력시 오류 메시지 출력후 다시 입력\n",
    " * 메세지 \"에러 발생: 숫자 데이터만 입력하세요\""
   ]
  },
  {
   "cell_type": "code",
   "execution_count": null,
   "metadata": {
    "id": "z30M6FH8oiE2"
   },
   "outputs": [],
   "source": [
    "## 반복문(while)/break\n",
    "import random\n",
    "number = random.randint(1, 100)\n",
    "#print(number)\n",
    "game_count = 1\n",
    "\n",
    "while True:\n",
    "    try:\n",
    "        my_number = int(input(\"1~100 사이의 숫자를 입력하세요:\"))\n",
    "        \n",
    "        if my_number > number:\n",
    "            print(\"다운\")\n",
    "        elif my_number < number:\n",
    "            print(\"업\")\n",
    "        elif my_number == number:\n",
    "            print(f\"축하합니다.{game_count}회 만에 맞췄습니다\")\n",
    "            break\n",
    "        \n",
    "        game_count = game_count + 1\n",
    "    except:\n",
    "        print(\"에러가 발생하였습니다. 숫자를 입력하세요\")"
   ]
  },
  {
   "cell_type": "code",
   "execution_count": null,
   "metadata": {
    "id": "jeAOA9Bjs7KC"
   },
   "outputs": [],
   "source": [
    "## 반복문(while)/break/continue\n",
    "import random\n",
    "number = random.randint(1, 100)\n",
    "\n",
    "game_count = 1\n",
    "\n",
    "while True:\n",
    "    try:\n",
    "        my_number = int(input(\"1~100 사이의 숫자를 입력하세요:\"))    \n",
    "    except:\n",
    "        print(\"에러가 발생하였습니다. 숫자를 입력하세요\")\n",
    "        continue   # 반복문의 시작위치로 돌아간다.\n",
    "\n",
    "    if my_number > number:\n",
    "        print(\"다운\")\n",
    "    elif my_number < number:\n",
    "        print(\"업\")\n",
    "    elif my_number == number:\n",
    "        print(f\"축하합니다.{game_count}회 만에 맞췄습니다\")\n",
    "        break  # 반복문을 종료한다.\n",
    "    \n",
    "    game_count = game_count + 1"
   ]
  },
  {
   "cell_type": "code",
   "execution_count": null,
   "metadata": {
    "id": "rlGSInjptdr_"
   },
   "outputs": [],
   "source": []
  }
 ],
 "metadata": {
  "colab": {
   "authorship_tag": "ABX9TyMra1qOxWG3/sXyWtsKtbQ7",
   "collapsed_sections": [],
   "name": "1. for 한줄쓰기 및 에러처리.ipynb",
   "private_outputs": true,
   "provenance": []
  },
  "kernelspec": {
   "display_name": "Python 3 (ipykernel)",
   "language": "python",
   "name": "python3"
  },
  "language_info": {
   "codemirror_mode": {
    "name": "ipython",
    "version": 3
   },
   "file_extension": ".py",
   "mimetype": "text/x-python",
   "name": "python",
   "nbconvert_exporter": "python",
   "pygments_lexer": "ipython3",
   "version": "3.10.4"
  }
 },
 "nbformat": 4,
 "nbformat_minor": 1
}
