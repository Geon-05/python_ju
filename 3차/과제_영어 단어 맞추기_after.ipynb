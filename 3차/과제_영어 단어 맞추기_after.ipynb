{
 "cells": [
  {
   "cell_type": "markdown",
   "id": "710593e0",
   "metadata": {},
   "source": [
    "### 영어 단어 맞추기\n",
    "\n",
    "1. 영어 단어 맞추기 게임을 시작할 때마다 영어 단어가 썩여서 나옴(random.shuffle()함수 활용)\n",
    "2. 사용자에게 단어의 뜻을 입력받고 (만약 사용자가 'q'를 입력하면 '게임종료'를 합니다.\n",
    "3. 맞으면 '정답입니다.', 틀리면 '다시 입력해 주세요', 만약 세번 틀리면 답을 알려 줌\n",
    "4. 제공된 영어 단어 사전이 모두 제시되면 종료됩니다.\n"
   ]
  },
  {
   "cell_type": "code",
   "execution_count": 7,
   "id": "08e294cc",
   "metadata": {},
   "outputs": [
    {
     "name": "stdout",
     "output_type": "stream",
     "text": [
      "grape의 뜻은?(종료:q)포도\n",
      "정답입니다.\n",
      "banana의 뜻은?(종료:q)바나나\n",
      "정답입니다.\n",
      "lemon의 뜻은?(종료:q)레몬\n",
      "정답입니다.\n",
      "apple의 뜻은?(종료:q)사과\n",
      "정답입니다.\n",
      "모든 단어를 연습했습니다. 게임 종료\n"
     ]
    }
   ],
   "source": [
    "import random\n",
    "\n",
    "dt = {\n",
    "    \"apple\" : \"사과\", \n",
    "    \"banana\" : \"바나나\", \n",
    "    \"lemon\" : \"레몬\", \n",
    "    \"grape\" : \"포도\"\n",
    "}\n",
    "\n",
    "ens=list(dt.keys())\n",
    "random.shuffle(ens)\n",
    "for question in ens:\n",
    "    answer=dt[question]\n",
    "    n=0\n",
    "    while n<3:\n",
    "        user_answer=input(f'{question}의 뜻은?(종료:q)')\n",
    "        if user_answer=='q':\n",
    "            print('---게임 종료---')\n",
    "            break\n",
    "        if user_answer==answer:\n",
    "            print('정답입니다.')\n",
    "            break\n",
    "        else:\n",
    "            print('다시 입력해 주세요')\n",
    "            n +=1\n",
    "    if n==3:\n",
    "        print(f'{question}의 정답은 {answer}입니다.')\n",
    "print('모든 단어를 연습했습니다. 게임 종료')\n",
    "            "
   ]
  },
  {
   "cell_type": "code",
   "execution_count": 6,
   "id": "9fd0527b",
   "metadata": {},
   "outputs": [
    {
     "name": "stdout",
     "output_type": "stream",
     "text": [
      "banana의 뜻은?(종료:q)d\n",
      "다시 입력해 주세요\n",
      "banana의 뜻은?(종료:q)d\n",
      "다시 입력해 주세요\n",
      "banana의 뜻은?(종료:q)d\n",
      "다시 입력해 주세요\n",
      "banana의 정답은 바나나입니다.\n",
      "grape의 뜻은?(종료:q)q\n",
      "---게임 종료---\n"
     ]
    }
   ],
   "source": [
    "import random\n",
    "\n",
    "dt = {\n",
    "    \"apple\" : \"사과\", \n",
    "    \"banana\" : \"바나나\", \n",
    "    \"lemon\" : \"레몬\", \n",
    "    \"grape\" : \"포도\"\n",
    "}\n",
    "\n",
    "def english_word_game():\n",
    "    ens=list(dt.keys())\n",
    "    random.shuffle(ens)\n",
    "    for question in ens:\n",
    "        answer=dt[question]\n",
    "        n=0\n",
    "        while n<3:\n",
    "            user_answer=input(f'{question}의 뜻은?(종료:q)')\n",
    "            if user_answer=='q':\n",
    "                print('---게임 종료---')\n",
    "                return\n",
    "            if user_answer==answer:\n",
    "                print('정답입니다.')\n",
    "                break\n",
    "            else:\n",
    "                print('다시 입력해 주세요')\n",
    "                n +=1\n",
    "        if n==3:\n",
    "             print(f'{question}의 정답은 {answer}입니다.')\n",
    "    print('모든 단어를 연습니다. 게임 종료')\n",
    "\n",
    "english_word_game()"
   ]
  },
  {
   "cell_type": "code",
   "execution_count": null,
   "id": "b11a128d",
   "metadata": {},
   "outputs": [],
   "source": []
  }
 ],
 "metadata": {
  "kernelspec": {
   "display_name": "Python 3 (ipykernel)",
   "language": "python",
   "name": "python3"
  },
  "language_info": {
   "codemirror_mode": {
    "name": "ipython",
    "version": 3
   },
   "file_extension": ".py",
   "mimetype": "text/x-python",
   "name": "python",
   "nbconvert_exporter": "python",
   "pygments_lexer": "ipython3",
   "version": "3.11.5"
  }
 },
 "nbformat": 4,
 "nbformat_minor": 5
}
